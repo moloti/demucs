{
 "cells": [
  {
   "cell_type": "code",
   "execution_count": null,
   "metadata": {},
   "outputs": [],
   "source": [
    "# Evaluation"
   ]
  },
  {
   "cell_type": "code",
   "execution_count": null,
   "metadata": {},
   "outputs": [],
   "source": [
    "# traning loss and validation loss\n",
    "\n",
    "import json\n",
    "import matplotlib.pyplot as plt\n",
    "\n",
    "f = open('logs/musdb=min batch_size=4.json')\n",
    "data = json.load(f)\n",
    "  \n",
    "valid, train = [], []\n",
    "\n",
    "for i in data:\n",
    "    valid.append(i[\"valid\"])\n",
    "    train.append(i[\"train\"])\n",
    "\n",
    "x = range(len(train))\n",
    "\n",
    "plt.plot(x, train, label=\"train\")\n",
    "plt.plot(x, valid, label=\"valid\")\n",
    "plt.legend()\n",
    "plt.show()\n",
    "\n",
    "  \n",
    "f.close()"
   ]
  }
 ],
 "metadata": {
  "kernelspec": {
   "display_name": "Python 3",
   "language": "python",
   "name": "python3"
  },
  "language_info": {
   "codemirror_mode": {
    "name": "ipython",
    "version": 3
   },
   "file_extension": ".py",
   "mimetype": "text/x-python",
   "name": "python",
   "nbconvert_exporter": "python",
   "pygments_lexer": "ipython3",
   "version": "3.10.6"
  },
  "orig_nbformat": 4,
  "vscode": {
   "interpreter": {
    "hash": "b0fa6594d8f4cbf19f97940f81e996739fb7646882a419484c72d19e05852a7e"
   }
  }
 },
 "nbformat": 4,
 "nbformat_minor": 2
}
